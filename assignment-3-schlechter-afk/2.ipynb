{
 "cells": [
  {
   "cell_type": "code",
   "execution_count": 1,
   "metadata": {},
   "outputs": [
    {
     "name": "stderr",
     "output_type": "stream",
     "text": [
      "/Users/swayam/Library/Python/3.9/lib/python/site-packages/urllib3/__init__.py:34: NotOpenSSLWarning: urllib3 v2.0 only supports OpenSSL 1.1.1+, currently the 'ssl' module is compiled with 'LibreSSL 2.8.3'. See: https://github.com/urllib3/urllib3/issues/3020\n",
      "  warnings.warn(\n",
      "Failed to detect the name of this notebook, you can set it manually with the WANDB_NOTEBOOK_NAME environment variable to enable code saving.\n",
      "/Users/swayam/Library/Python/3.9/lib/python/site-packages/urllib3/__init__.py:34: NotOpenSSLWarning: urllib3 v2.0 only supports OpenSSL 1.1.1+, currently the 'ssl' module is compiled with 'LibreSSL 2.8.3'. See: https://github.com/urllib3/urllib3/issues/3020\n",
      "  warnings.warn(\n",
      "\u001b[34m\u001b[1mwandb\u001b[0m: Currently logged in as: \u001b[33mswayamagrawal1004\u001b[0m. Use \u001b[1m`wandb login --relogin`\u001b[0m to force relogin\n",
      "\u001b[34m\u001b[1mwandb\u001b[0m: \u001b[33mWARNING\u001b[0m If you're specifying your api key in code, ensure this code is not shared publicly.\n",
      "\u001b[34m\u001b[1mwandb\u001b[0m: \u001b[33mWARNING\u001b[0m Consider setting the WANDB_API_KEY environment variable, or running `wandb login` from the command line.\n",
      "\u001b[34m\u001b[1mwandb\u001b[0m: Appending key for api.wandb.ai to your netrc file: /Users/swayam/.netrc\n"
     ]
    },
    {
     "data": {
      "text/html": [
       "wandb version 0.15.12 is available!  To upgrade, please run:\n",
       " $ pip install wandb --upgrade"
      ],
      "text/plain": [
       "<IPython.core.display.HTML object>"
      ]
     },
     "metadata": {},
     "output_type": "display_data"
    },
    {
     "data": {
      "text/html": [
       "Tracking run with wandb version 0.15.11"
      ],
      "text/plain": [
       "<IPython.core.display.HTML object>"
      ]
     },
     "metadata": {},
     "output_type": "display_data"
    },
    {
     "data": {
      "text/html": [
       "Run data is saved locally in <code>/Users/swayam/github-classroom/Statistical-Methods-in-AI-Monsoon-2023/assignment-3-schlechter-afk/wandb/run-20231010_132556-zq8fffnd</code>"
      ],
      "text/plain": [
       "<IPython.core.display.HTML object>"
      ]
     },
     "metadata": {},
     "output_type": "display_data"
    },
    {
     "data": {
      "text/html": [
       "Syncing run <strong><a href='https://wandb.ai/swayamagrawal1004/SMAI_ASSIGNMENT3_Part2/runs/zq8fffnd' target=\"_blank\">quiet-cosmos-22</a></strong> to <a href='https://wandb.ai/swayamagrawal1004/SMAI_ASSIGNMENT3_Part2' target=\"_blank\">Weights & Biases</a> (<a href='https://wandb.me/run' target=\"_blank\">docs</a>)<br/>"
      ],
      "text/plain": [
       "<IPython.core.display.HTML object>"
      ]
     },
     "metadata": {},
     "output_type": "display_data"
    },
    {
     "data": {
      "text/html": [
       " View project at <a href='https://wandb.ai/swayamagrawal1004/SMAI_ASSIGNMENT3_Part2' target=\"_blank\">https://wandb.ai/swayamagrawal1004/SMAI_ASSIGNMENT3_Part2</a>"
      ],
      "text/plain": [
       "<IPython.core.display.HTML object>"
      ]
     },
     "metadata": {},
     "output_type": "display_data"
    },
    {
     "data": {
      "text/html": [
       " View run at <a href='https://wandb.ai/swayamagrawal1004/SMAI_ASSIGNMENT3_Part2/runs/zq8fffnd' target=\"_blank\">https://wandb.ai/swayamagrawal1004/SMAI_ASSIGNMENT3_Part2/runs/zq8fffnd</a>"
      ],
      "text/plain": [
       "<IPython.core.display.HTML object>"
      ]
     },
     "metadata": {},
     "output_type": "display_data"
    },
    {
     "data": {
      "text/html": [
       "<button onClick=\"this.nextSibling.style.display='block';this.style.display='none';\">Display W&B run</button><iframe src='https://wandb.ai/swayamagrawal1004/SMAI_ASSIGNMENT3_Part2/runs/zq8fffnd?jupyter=true' style='border:none;width:100%;height:420px;display:none;'></iframe>"
      ],
      "text/plain": [
       "<wandb.sdk.wandb_run.Run at 0x1079b37c0>"
      ]
     },
     "execution_count": 1,
     "metadata": {},
     "output_type": "execute_result"
    }
   ],
   "source": [
    "import wandb\n",
    "wandb.login(key='fac5cd7f576f5d6d2591b0e77385c09a7922b210')\n",
    "wandb.init(\n",
    "    # set the wandb project where this run will be logged\n",
    "    project=\"SMAI_ASSIGNMENT3_Part2\",\n",
    "    \n",
    "    # track hyperparameters and run metadata\n",
    "    config={\n",
    "    \"learning_rate\": 0.04,\n",
    "    \"architecture\": \"CNN\",\n",
    "    \"dataset\": \"CIFAR-100\",\n",
    "    \"epochs\": 10,\n",
    "    }\n",
    ")"
   ]
  },
  {
   "cell_type": "code",
   "execution_count": 13,
   "metadata": {},
   "outputs": [],
   "source": [
    "import numpy as np\n",
    "import pandas as pd\n",
    "import matplotlib.pyplot as plt\n",
    "from sklearn.model_selection import train_test_split\n",
    "from sklearn.preprocessing import StandardScaler\n",
    "from sklearn.metrics import accuracy_score, precision_score, recall_score, f1_score\n",
    "\n",
    "def sigmoid(x):\n",
    "    clipped_x = np.clip(x, -50, 50)  # Adjust the range as needed\n",
    "    return 1 / (1 + np.exp(-x))\n",
    "\n",
    "def tanh(x):\n",
    "    return np.tanh(x)\n",
    "\n",
    "def relu(x):\n",
    "    return np.maximum(0, x)\n",
    "\n",
    "def sgd_optimizer(parameters, gradients, learning_rate, batch_size):\n",
    "    for param, grad in zip(parameters, gradients):\n",
    "        param -= learning_rate * grad\n",
    "\n",
    "def batch_gradient_descent(parameters, gradients, learning_rate, batch_size):\n",
    "    for param, grad in zip(parameters, gradients):\n",
    "        param -= (learning_rate / batch_size) * grad\n",
    "\n",
    "def mini_batch_gradient_descent(parameters, gradients, learning_rate, batch_size):\n",
    "    for param, grad in zip(parameters, gradients):\n",
    "        param -= learning_rate * grad\n",
    "\n",
    "class MLPClassifier:\n",
    "    def __init__(self, input_size, hidden_layers, output_size, learning_rate=0.01, activation='sigmoid', optimizer='sgd'):\n",
    "        self.input_size = input_size\n",
    "        self.hidden_layers = hidden_layers\n",
    "        self.output_size = output_size\n",
    "        self.learning_rate = learning_rate\n",
    "        \n",
    "        if activation == 'sigmoid':\n",
    "            self.activation_function = sigmoid\n",
    "        elif activation == 'tanh':\n",
    "            self.activation_function = tanh\n",
    "        elif activation == 'relu':\n",
    "            self.activation_function = relu\n",
    "        \n",
    "        if optimizer == 'sgd':\n",
    "            self.optimizer = sgd_optimizer\n",
    "        elif optimizer == 'batch':\n",
    "            self.optimizer = batch_gradient_descent\n",
    "        elif optimizer == 'mini-batch':\n",
    "            self.optimizer = mini_batch_gradient_descent\n",
    "        \n",
    "        self.weights, self.biases = self.initialize_weights_and_biases()\n",
    "    \n",
    "    def initialize_weights_and_biases(self):\n",
    "        layer_sizes = [self.input_size] + self.hidden_layers + [self.output_size]\n",
    "        weights = [np.random.randn(layer_sizes[i], layer_sizes[i+1]) for i in range(len(layer_sizes) - 1)]\n",
    "        biases = [np.zeros(layer_size) for layer_size in layer_sizes[1:]]\n",
    "        return weights, biases\n",
    "\n",
    "    def softmax(self, x):\n",
    "        exp_x = np.exp(x - np.max(x, axis=1, keepdims=True))  # Subtract max to prevent overflow\n",
    "        return exp_x / exp_x.sum(axis=1, keepdims=True)\n",
    "    \n",
    "    def forward_propagation(self, x):\n",
    "        activations = [x]\n",
    "        weighted_inputs = []\n",
    "        \n",
    "        for i in range(len(self.weights)):\n",
    "            z = np.dot(activations[-1], self.weights[i]) + self.biases[i]\n",
    "            # print(\" ho: \" + str(z.shape))\n",
    "            weighted_inputs.append(z)\n",
    "            a = self.activation_function(z)\n",
    "            activations.append(a)\n",
    "\n",
    "        activations[-1] = self.softmax(activations[-1])\n",
    "        # print(\"Activations shape: \" + str(len(activations)))\n",
    "        # print(\"Weighted inputs shape \" + str(len(weighted_inputs)))\n",
    "        return activations, weighted_inputs\n",
    "    \n",
    "    def backward_propagation(self, x, y, activations, weighted_inputs):\n",
    "        m = x.shape[0]\n",
    "        gradients = [np.zeros_like(weight) for weight in self.weights]\n",
    "        bias_gradients = [np.zeros_like(bias) for bias in self.biases]\n",
    "\n",
    "        delta = None\n",
    "        if self.activation_function == sigmoid:\n",
    "            delta = (activations[-1] - y) * activations[-1] * (1 - activations[-1])\n",
    "        elif self.activation_function == tanh:\n",
    "            delta = (activations[-1] - y) * (1 - np.tanh(weighted_inputs[-1]) ** 2)\n",
    "        elif self.activation_function == relu:\n",
    "            delta = (activations[-1] - y) * (activations[-1] > 0).astype(float)\n",
    "\n",
    "        for i in range(len(self.weights) - 1, -1, -1):\n",
    "            if self.activation_function == sigmoid:\n",
    "                activation_derivative = activations[i] * (1 - activations[i])\n",
    "            elif self.activation_function == tanh:\n",
    "                if(i > 0):\n",
    "                    activation_derivative = 1 - np.tanh(weighted_inputs[i-1]) ** 2\n",
    "            elif self.activation_function == relu:\n",
    "                activation_derivative = (activations[i] > 0).astype(float)\n",
    "            \n",
    "            gradients[i] = np.dot(activations[i].T, delta) / m\n",
    "            bias_gradients[i] = np.sum(delta, axis=0) / m\n",
    "\n",
    "            if(i == 0):\n",
    "                continue\n",
    "            delta = np.dot(delta, self.weights[i].T) * activation_derivative\n",
    "        \n",
    "        self.biases = [bias - self.learning_rate * bias_gradient for bias, bias_gradient in zip(self.biases, bias_gradients)]\n",
    "        return gradients\n",
    "    \n",
    "    def train(self, x_train, y_train, epochs, batch_size=None):\n",
    "        train_losses = []\n",
    "        for epoch in range(epochs):  \n",
    "            self.n_samples = x_train.shape[0]\n",
    "            shuffle = np.random.permutation(self.n_samples)\n",
    "            train_loss = 0\n",
    "            X_batches = np.array_split(x_train[shuffle],self.n_samples/batch_size)\n",
    "            Y_batches = np.array_split(y_train[shuffle],self.n_samples/batch_size)\n",
    "            for batch_x,batch_y in zip(X_batches,Y_batches):\n",
    "                activations, weighted_inputs = self.forward_propagation(batch_x) \n",
    "                train_loss += -np.mean(np.log(activations[-1] + 1e-10) * batch_y)\n",
    "                gradients = self.backward_propagation(batch_x, batch_y, activations, weighted_inputs)\n",
    "                self.optimizer(self.weights, gradients, self.learning_rate, batch_size)\n",
    "\n",
    "            train_loss = (train_loss/len(X_batches))\n",
    "            train_losses.append(train_loss)\n",
    "        self.train_lossarr = train_losses   \n",
    "    \n",
    "    def predict(self, x):\n",
    "        activations, _ = self.forward_propagation(x)\n",
    "        predictions = np.argmax(activations[-1], axis=1)\n",
    "        return predictions\n",
    "\n",
    "    def calc_loss(self, x, y):\n",
    "        activations, _ = self.forward_propagation(x)\n",
    "        loss = -np.mean(np.log(activations[-1] + 1e-10) * y)\n",
    "        return loss"
   ]
  },
  {
   "cell_type": "code",
   "execution_count": 14,
   "metadata": {},
   "outputs": [],
   "source": [
    "wine_data = pd.read_csv(\"WineQT.csv\")\n",
    "y = wine_data.quality\n",
    "X = wine_data.drop('quality', axis = 1)\n",
    "\n",
    "X_train, X_temp, y_train, y_temp = train_test_split(X, y, test_size=0.3, random_state=42)\n",
    "X_val, X_test, y_val, y_test = train_test_split(X_temp, y_temp, test_size=0.5, random_state=42)\n",
    "\n",
    "X_train = X_train.reset_index(drop=True)\n",
    "X_val = X_val.reset_index(drop=True)\n",
    "X_test = X_test.reset_index(drop=True)\n",
    "y_train = y_train.reset_index(drop=True)\n",
    "y_val = y_val.reset_index(drop=True)\n",
    "y_test = y_test.reset_index(drop=True)\n",
    "\n",
    "std_scaler = StandardScaler()\n",
    "X_train = std_scaler.fit_transform(X_train)\n",
    "X_val = std_scaler.transform(X_val)\n",
    "X_test = std_scaler.transform(X_test)\n",
    "\n",
    "input_size = X_train.shape[1]\n",
    "output_size = 6  \n",
    "y_train_one_hot = np.eye(output_size)[y_train-3]\n",
    "y_val_one_hot = np.eye(output_size)[y_val-3]"
   ]
  },
  {
   "cell_type": "code",
   "execution_count": 15,
   "metadata": {},
   "outputs": [
    {
     "data": {
      "image/png": "[encoded data removed]",
      "text/plain": [
       "<Figure size 1000x600 with 1 Axes>"
      ]
     },
     "metadata": {},
     "output_type": "display_data"
    }
   ],
   "source": [
    "mlp = MLPClassifier(input_size, [128, 128], output_size, 0.01, 'relu', 'mini-batch')\n",
    "mlp.train(X_train, y_train_one_hot, 100, batch_size=8)\n",
    "train_arr = mlp.train_lossarr\n",
    "epochs = list(range(1, 101))\n",
    "\n",
    "plt.figure(figsize=(10, 6)) \n",
    "plt.plot(epochs, train_arr, label='Train Losses', color='blue')\n",
    "plt.xlabel('Epochs')\n",
    "plt.ylabel('Train Loss')\n",
    "plt.title('Train Loss vs Epochs')\n",
    "plt.legend()\n",
    "plt.grid(True)\n",
    "\n",
    "plt.show()"
   ]
  },
  {
   "cell_type": "code",
   "execution_count": 5,
   "metadata": {},
   "outputs": [
    {
     "name": "stdout",
     "output_type": "stream",
     "text": [
      "Best Model Parameters:\n",
      "{'Learning Rate': 0.03, 'Epochs': 100, 'Hidden Layers': [6, 6], 'Activation Function': 'relu', 'Optimizer': 'mini-batch'}\n",
      "Best Validation Accuracy: 0.695906432748538\n",
      "     Learning Rate  Epochs Hidden Layers Activation Function   Optimizer  \\\n",
      "0             0.01      50      [12, 12]             sigmoid         sgd   \n",
      "1             0.01      50      [12, 12]             sigmoid       batch   \n",
      "2             0.01      50      [12, 12]             sigmoid  mini-batch   \n",
      "3             0.01      50      [12, 12]                relu         sgd   \n",
      "4             0.01      50      [12, 12]                relu       batch   \n",
      "..             ...     ...           ...                 ...         ...   \n",
      "238           0.10     200        [6, 6]                relu       batch   \n",
      "239           0.10     200        [6, 6]                relu  mini-batch   \n",
      "240           0.10     200        [6, 6]                tanh         sgd   \n",
      "241           0.10     200        [6, 6]                tanh       batch   \n",
      "242           0.10     200        [6, 6]                tanh  mini-batch   \n",
      "\n",
      "     Validation Accuracy  F1 Score  Precision    Recall  \n",
      "0               0.362573  0.192957   0.768886  0.362573  \n",
      "1               0.362573  0.192957   0.768886  0.362573  \n",
      "2               0.362573  0.192957   0.768886  0.362573  \n",
      "3               0.643275  0.653939   0.634206  0.643275  \n",
      "4               0.549708  0.545080   0.518154  0.549708  \n",
      "..                   ...       ...        ...       ...  \n",
      "238             0.631579  0.622575   0.637325  0.631579  \n",
      "239             0.654971  0.637641   0.670852  0.654971  \n",
      "240             0.619883  0.602748   0.649307  0.619883  \n",
      "241             0.584795  0.558845   0.577778  0.584795  \n",
      "242             0.578947  0.534385   0.556085  0.578947  \n",
      "\n",
      "[243 rows x 9 columns]\n"
     ]
    }
   ],
   "source": [
    "learning_rates = [0.01, 0.03, 0.1]  # Define a range of learning rates\n",
    "epochs_values = [50, 100, 200]  # Define a range of epochs\n",
    "hidden_layers_values = [[12, 12], [8, 6], [6, 6]]  # Define different hidden layer configurations\n",
    "activation_functions = ['sigmoid', 'relu', 'tanh']\n",
    "optimizers = ['sgd', 'batch', 'mini-batch']\n",
    "\n",
    "best_params = {}\n",
    "best_val_accuracy = 0.0\n",
    "\n",
    "results = []\n",
    "\n",
    "for lr in learning_rates:\n",
    "    for epochs_val in epochs_values:\n",
    "        for hidden_layers_val in hidden_layers_values:\n",
    "            for activation_func in activation_functions:\n",
    "                for optimizer_type in optimizers:\n",
    "                    mlp = MLPClassifier(input_size, hidden_layers_val, output_size, lr, activation_func, optimizer_type)\n",
    "\n",
    "                    mlp.train(X_train, y_train_one_hot, epochs_val, batch_size=8)\n",
    "                    \n",
    "                    train_predictions = mlp.predict(X_train)\n",
    "                    train_loss = mlp.train_lossarr[-1]\n",
    "                    train_accuracy = accuracy_score(y_train - 3, train_predictions)\n",
    "\n",
    "                    val_predictions = mlp.predict(X_val)\n",
    "                    val_loss = mlp.calc_loss(X_val, y_val_one_hot)\n",
    "                    val_accuracy = accuracy_score(y_val - 3, val_predictions)\n",
    "\n",
    "                    f1_sc = f1_score(y_val - 3, val_predictions, average='weighted', zero_division=True)\n",
    "                    precision = precision_score(y_val - 3, val_predictions, average='weighted', zero_division=True)\n",
    "                    recall = recall_score(y_val - 3, val_predictions, average='weighted', zero_division=True)\n",
    "\n",
    "                    if val_accuracy > best_val_accuracy:\n",
    "                        best_val_accuracy = val_accuracy\n",
    "                        best_params = {\n",
    "                            'Learning Rate': lr,\n",
    "                            'Epochs': epochs_val,\n",
    "                            'Hidden Layers': hidden_layers_val,\n",
    "                            'Activation Function': activation_func,\n",
    "                            'Optimizer': optimizer_type\n",
    "                        }\n",
    "\n",
    "                    wandb.log({\n",
    "                        'Learning Rate': lr,\n",
    "                        'Epochs': epochs_val,\n",
    "                        'Hidden Layers': hidden_layers_val,\n",
    "                        'Activation Function': activation_func,\n",
    "                        'Optimizer': optimizer_type,\n",
    "                        'Validation Accuracy': val_accuracy,\n",
    "                        'Validation Loss': val_loss,\n",
    "                        'Training Accuracy': train_accuracy,\n",
    "                        'Training Loss': train_loss,\n",
    "                        'F1 Score': f1_sc,\n",
    "                        'Precision': precision,\n",
    "                        'Recall': recall\n",
    "                    })\n",
    "\n",
    "                    results.append({\n",
    "                        'Learning Rate': lr,\n",
    "                        'Epochs': epochs_val,\n",
    "                        'Hidden Layers': hidden_layers_val,\n",
    "                        'Activation Function': activation_func,\n",
    "                        'Optimizer': optimizer_type,\n",
    "                        'Validation Accuracy': val_accuracy,\n",
    "                        'F1 Score': f1_sc,\n",
    "                        'Precision': precision,\n",
    "                        'Recall': recall\n",
    "                    })\n",
    "\n",
    "print(\"Best Model Parameters:\")\n",
    "print(best_params)\n",
    "print(\"Best Validation Accuracy:\", best_val_accuracy)\n",
    "wandb.log(best_params)\n",
    "wandb.log({'Best Validation Accuracy': best_val_accuracy})\n",
    "\n",
    "results_df = pd.DataFrame(results)\n",
    "print(results_df)\n",
    "wandb.log({\"Results Table\": wandb.Table(dataframe=results_df)})"
   ]
  },
  {
   "cell_type": "markdown",
   "metadata": {},
   "source": [
    "## Evaluation for Test Data on both models: Multi Layer Perceptron and Multinomial Regression"
   ]
  },
  {
   "cell_type": "code",
   "execution_count": 16,
   "metadata": {},
   "outputs": [],
   "source": [
    "lr = best_params['Learning Rate']\n",
    "activation_func = best_params['Activation Function']\n",
    "hidden_layers_val = best_params['Hidden Layers']\n",
    "output_size = 6\n",
    "optimizer_type = best_params['Optimizer']\n",
    "input_size = X_test.shape[1]\n",
    "epochs_val = best_params['Epochs']\n",
    "\n",
    "mlp = MLPClassifier(input_size, hidden_layers_val, output_size, lr, activation_func, optimizer_type)\n",
    "mlp.train(X_train, y_train_one_hot, epochs_val, batch_size=20)\n",
    "test_predictions = mlp.predict(X_test)\n",
    "test_accuracy = accuracy_score(y_test - 3, test_predictions)\n",
    "mlpAccuracy = test_accuracy"
   ]
  },
  {
   "cell_type": "code",
   "execution_count": 22,
   "metadata": {},
   "outputs": [],
   "source": [
    "class MultinomialLogisticRegression:\n",
    "    def __init__(self, num_classes, learning_rate=0.01, num_epochs=1000):\n",
    "        self.num_classes = num_classes\n",
    "        self.learning_rate = learning_rate\n",
    "        self.num_epochs = num_epochs\n",
    "\n",
    "    def softmax(self, Z):\n",
    "        exp_Z = np.exp(Z - np.max(Z, axis=1, keepdims=True))\n",
    "        return exp_Z / np.sum(exp_Z, axis=1, keepdims=True)\n",
    "\n",
    "    def one_hot_encode(self, y):\n",
    "        num_classes = np.max(y) + 1 \n",
    "        if num_classes != self.num_classes:\n",
    "            raise ValueError(\"Number of unique classes does not match num_classes parameter.\")\n",
    "        \n",
    "        one_hot = np.zeros((y.shape[0], num_classes))\n",
    "        for i in range(len(y)):\n",
    "\n",
    "            if y[i] < 0 or y[i] >= num_classes:\n",
    "                raise ValueError(f\"Invalid class label: {y[i]}\")\n",
    "            one_hot[i, y[i]] = 1\n",
    "        return one_hot\n",
    "\n",
    "    def fit(self, X, y):\n",
    "        self.num_features = X.shape[1]\n",
    "\n",
    "        self.weights = np.random.random((self.num_features, self.num_classes))\n",
    "        self.bias = np.random.random(self.num_classes)\n",
    "        \n",
    "        y_encoded = self.one_hot_encode(y)\n",
    "        losses = []\n",
    "        accuracies = []\n",
    "\n",
    "        for epoch in range(self.num_epochs):\n",
    "            Z = X@self.weights + self.bias\n",
    "            A = self.softmax(Z)\n",
    "\n",
    "            dW = (1/X.shape[0]) * np.dot(X.T, (A - y_encoded))\n",
    "            db = (1/X.shape[0]) * np.sum(A - y_encoded, axis=0)\n",
    "\n",
    "            self.weights -= self.learning_rate * dW\n",
    "            self.bias -= self.learning_rate * db\n",
    "\n",
    "            loss = self.cross_entropy_loss(y_encoded, A)\n",
    "            losses.append(loss)\n",
    "            y_pred = np.argmax(A, axis=1)\n",
    "            accuracy = np.mean(y == y_pred)\n",
    "            accuracies.append(accuracy)\n",
    "        return losses, accuracies\n",
    "    \n",
    "    def cross_entropy_loss(self, y, y_pred):\n",
    "        return -np.mean(y * np.log(y_pred + 1e-15))\n",
    "\n",
    "    def predict(self, X):\n",
    "        Z = X@self.weights + self.bias\n",
    "        A = self.softmax(Z)\n",
    "        return np.argmax(A, axis=1)\n",
    "    \n",
    "    def visualize_decision_boundary(self, X, y):\n",
    "        X_pca = X\n",
    "        # print(X_pca, y)\n",
    "        losses, accuracies = self.fit(X_pca, y)\n",
    "\n",
    "        x_min, x_max = X_pca[:, 0].min() - 1, X_pca[:, 0].max() + 1\n",
    "        y_min, y_max = X_pca[:, 1].min() - 1, X_pca[:, 1].max() + 1\n",
    "        xx, yy = np.meshgrid(np.arange(x_min, x_max, 0.01),\n",
    "                             np.arange(y_min, y_max, 0.01))\n",
    "\n",
    "        Z = self.predict(np.c_[xx.ravel(), yy.ravel()])\n",
    "        Z = Z.reshape(xx.shape)\n",
    "        plt.contourf(xx, yy, Z, alpha=0.4)\n",
    "        plt.scatter(X_pca[:, 0], X_pca[:, 1], c=y, cmap=plt.cm.Paired)\n",
    "        plt.xlabel('PCA Component 1')\n",
    "        plt.ylabel('PCA Component 2')\n",
    "        plt.title('Decision Boundaries')\n",
    "        plt.show()\n",
    "\n",
    "test_model = MultinomialLogisticRegression(num_classes=6, learning_rate=lr, num_epochs=epochs_val)\n",
    "test_losses, test_accuracies = test_model.fit(X_test, y_test-3)\n",
    "LogisticAccuracy = test_accuracies[-1]"
   ]
  },
  {
   "cell_type": "code",
   "execution_count": 23,
   "metadata": {},
   "outputs": [
    {
     "name": "stdout",
     "output_type": "stream",
     "text": [
      "Accuracy on testdata for Multinomial Logistic Regression: 0.5581395348837209\n",
      "Accuracy on testdata for Multi Layer Perceptron Classification: 0.6162790697674418\n"
     ]
    },
    {
     "name": "stderr",
     "output_type": "stream",
     "text": [
      "wandb: Network error (ConnectionError), entering retry loop.\n"
     ]
    }
   ],
   "source": [
    "print(\"Accuracy on testdata for Multinomial Logistic Regression: \" + str(LogisticAccuracy))\n",
    "print(\"Accuracy on testdata for Multi Layer Perceptron Classification: \" + str(mlpAccuracy))"
   ]
  }
 ],
 "metadata": {
  "kernelspec": {
   "display_name": "Python 3",
   "language": "python",
   "name": "python3"
  },
  "language_info": {
   "codemirror_mode": {
    "name": "ipython",
    "version": 3
   },
   "file_extension": ".py",
   "mimetype": "text/x-python",
   "name": "python",
   "nbconvert_exporter": "python",
   "pygments_lexer": "ipython3",
   "version": "3.9.6"
  },
  "orig_nbformat": 4
 },
 "nbformat": 4,
 "nbformat_minor": 2
}
