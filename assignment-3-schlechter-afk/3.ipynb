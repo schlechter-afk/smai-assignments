{
 "cells": [
  {
   "cell_type": "code",
   "execution_count": 1,
   "metadata": {},
   "outputs": [
    {
     "name": "stdout",
     "output_type": "stream",
     "text": [
      "Data shape:  (506, 14)\n"
     ]
    },
    {
     "data": {
      "text/html": [
       "<div>\n",
       "<style scoped>\n",
       "    .dataframe tbody tr th:only-of-type {\n",
       "        vertical-align: middle;\n",
       "    }\n",
       "\n",
       "    .dataframe tbody tr th {\n",
       "        vertical-align: top;\n",
       "    }\n",
       "\n",
       "    .dataframe thead th {\n",
       "        text-align: right;\n",
       "    }\n",
       "</style>\n",
       "<table border=\"1\" class=\"dataframe\">\n",
       "  <thead>\n",
       "    <tr style=\"text-align: right;\">\n",
       "      <th></th>\n",
       "      <th>CRIM</th>\n",
       "      <th>ZN</th>\n",
       "      <th>INDUS</th>\n",
       "      <th>CHAS</th>\n",
       "      <th>NOX</th>\n",
       "      <th>RM</th>\n",
       "      <th>AGE</th>\n",
       "      <th>DIS</th>\n",
       "      <th>RAD</th>\n",
       "      <th>TAX</th>\n",
       "      <th>PTRATIO</th>\n",
       "      <th>B</th>\n",
       "      <th>LSTAT</th>\n",
       "      <th>MEDV</th>\n",
       "    </tr>\n",
       "  </thead>\n",
       "  <tbody>\n",
       "    <tr>\n",
       "      <th>count</th>\n",
       "      <td>486.000000</td>\n",
       "      <td>486.000000</td>\n",
       "      <td>486.000000</td>\n",
       "      <td>486.000000</td>\n",
       "      <td>506.000000</td>\n",
       "      <td>506.000000</td>\n",
       "      <td>486.000000</td>\n",
       "      <td>506.000000</td>\n",
       "      <td>506.000000</td>\n",
       "      <td>506.000000</td>\n",
       "      <td>506.000000</td>\n",
       "      <td>506.000000</td>\n",
       "      <td>486.000000</td>\n",
       "      <td>506.000000</td>\n",
       "    </tr>\n",
       "    <tr>\n",
       "      <th>mean</th>\n",
       "      <td>3.611874</td>\n",
       "      <td>11.211934</td>\n",
       "      <td>11.083992</td>\n",
       "      <td>0.069959</td>\n",
       "      <td>0.554695</td>\n",
       "      <td>6.284634</td>\n",
       "      <td>68.518519</td>\n",
       "      <td>3.795043</td>\n",
       "      <td>9.549407</td>\n",
       "      <td>408.237154</td>\n",
       "      <td>18.455534</td>\n",
       "      <td>356.674032</td>\n",
       "      <td>12.715432</td>\n",
       "      <td>22.532806</td>\n",
       "    </tr>\n",
       "    <tr>\n",
       "      <th>std</th>\n",
       "      <td>8.720192</td>\n",
       "      <td>23.388876</td>\n",
       "      <td>6.835896</td>\n",
       "      <td>0.255340</td>\n",
       "      <td>0.115878</td>\n",
       "      <td>0.702617</td>\n",
       "      <td>27.999513</td>\n",
       "      <td>2.105710</td>\n",
       "      <td>8.707259</td>\n",
       "      <td>168.537116</td>\n",
       "      <td>2.164946</td>\n",
       "      <td>91.294864</td>\n",
       "      <td>7.155871</td>\n",
       "      <td>9.197104</td>\n",
       "    </tr>\n",
       "    <tr>\n",
       "      <th>min</th>\n",
       "      <td>0.006320</td>\n",
       "      <td>0.000000</td>\n",
       "      <td>0.460000</td>\n",
       "      <td>0.000000</td>\n",
       "      <td>0.385000</td>\n",
       "      <td>3.561000</td>\n",
       "      <td>2.900000</td>\n",
       "      <td>1.129600</td>\n",
       "      <td>1.000000</td>\n",
       "      <td>187.000000</td>\n",
       "      <td>12.600000</td>\n",
       "      <td>0.320000</td>\n",
       "      <td>1.730000</td>\n",
       "      <td>5.000000</td>\n",
       "    </tr>\n",
       "    <tr>\n",
       "      <th>25%</th>\n",
       "      <td>0.081900</td>\n",
       "      <td>0.000000</td>\n",
       "      <td>5.190000</td>\n",
       "      <td>0.000000</td>\n",
       "      <td>0.449000</td>\n",
       "      <td>5.885500</td>\n",
       "      <td>45.175000</td>\n",
       "      <td>2.100175</td>\n",
       "      <td>4.000000</td>\n",
       "      <td>279.000000</td>\n",
       "      <td>17.400000</td>\n",
       "      <td>375.377500</td>\n",
       "      <td>7.125000</td>\n",
       "      <td>17.025000</td>\n",
       "    </tr>\n",
       "    <tr>\n",
       "      <th>50%</th>\n",
       "      <td>0.253715</td>\n",
       "      <td>0.000000</td>\n",
       "      <td>9.690000</td>\n",
       "      <td>0.000000</td>\n",
       "      <td>0.538000</td>\n",
       "      <td>6.208500</td>\n",
       "      <td>76.800000</td>\n",
       "      <td>3.207450</td>\n",
       "      <td>5.000000</td>\n",
       "      <td>330.000000</td>\n",
       "      <td>19.050000</td>\n",
       "      <td>391.440000</td>\n",
       "      <td>11.430000</td>\n",
       "      <td>21.200000</td>\n",
       "    </tr>\n",
       "    <tr>\n",
       "      <th>75%</th>\n",
       "      <td>3.560263</td>\n",
       "      <td>12.500000</td>\n",
       "      <td>18.100000</td>\n",
       "      <td>0.000000</td>\n",
       "      <td>0.624000</td>\n",
       "      <td>6.623500</td>\n",
       "      <td>93.975000</td>\n",
       "      <td>5.188425</td>\n",
       "      <td>24.000000</td>\n",
       "      <td>666.000000</td>\n",
       "      <td>20.200000</td>\n",
       "      <td>396.225000</td>\n",
       "      <td>16.955000</td>\n",
       "      <td>25.000000</td>\n",
       "    </tr>\n",
       "    <tr>\n",
       "      <th>max</th>\n",
       "      <td>88.976200</td>\n",
       "      <td>100.000000</td>\n",
       "      <td>27.740000</td>\n",
       "      <td>1.000000</td>\n",
       "      <td>0.871000</td>\n",
       "      <td>8.780000</td>\n",
       "      <td>100.000000</td>\n",
       "      <td>12.126500</td>\n",
       "      <td>24.000000</td>\n",
       "      <td>711.000000</td>\n",
       "      <td>22.000000</td>\n",
       "      <td>396.900000</td>\n",
       "      <td>37.970000</td>\n",
       "      <td>50.000000</td>\n",
       "    </tr>\n",
       "  </tbody>\n",
       "</table>\n",
       "</div>"
      ],
      "text/plain": [
       "             CRIM          ZN       INDUS        CHAS         NOX          RM  \\\n",
       "count  486.000000  486.000000  486.000000  486.000000  506.000000  506.000000   \n",
       "mean     3.611874   11.211934   11.083992    0.069959    0.554695    6.284634   \n",
       "std      8.720192   23.388876    6.835896    0.255340    0.115878    0.702617   \n",
       "min      0.006320    0.000000    0.460000    0.000000    0.385000    3.561000   \n",
       "25%      0.081900    0.000000    5.190000    0.000000    0.449000    5.885500   \n",
       "50%      0.253715    0.000000    9.690000    0.000000    0.538000    6.208500   \n",
       "75%      3.560263   12.500000   18.100000    0.000000    0.624000    6.623500   \n",
       "max     88.976200  100.000000   27.740000    1.000000    0.871000    8.780000   \n",
       "\n",
       "              AGE         DIS         RAD         TAX     PTRATIO           B  \\\n",
       "count  486.000000  506.000000  506.000000  506.000000  506.000000  506.000000   \n",
       "mean    68.518519    3.795043    9.549407  408.237154   18.455534  356.674032   \n",
       "std     27.999513    2.105710    8.707259  168.537116    2.164946   91.294864   \n",
       "min      2.900000    1.129600    1.000000  187.000000   12.600000    0.320000   \n",
       "25%     45.175000    2.100175    4.000000  279.000000   17.400000  375.377500   \n",
       "50%     76.800000    3.207450    5.000000  330.000000   19.050000  391.440000   \n",
       "75%     93.975000    5.188425   24.000000  666.000000   20.200000  396.225000   \n",
       "max    100.000000   12.126500   24.000000  711.000000   22.000000  396.900000   \n",
       "\n",
       "            LSTAT        MEDV  \n",
       "count  486.000000  506.000000  \n",
       "mean    12.715432   22.532806  \n",
       "std      7.155871    9.197104  \n",
       "min      1.730000    5.000000  \n",
       "25%      7.125000   17.025000  \n",
       "50%     11.430000   21.200000  \n",
       "75%     16.955000   25.000000  \n",
       "max     37.970000   50.000000  "
      ]
     },
     "execution_count": 1,
     "metadata": {},
     "output_type": "execute_result"
    }
   ],
   "source": [
    "import pandas as pd\n",
    "\n",
    "house_df =  pd.read_csv('HousingData.csv')\n",
    "\n",
    "print(\"Data shape: \", house_df.shape)\n",
    "house_df.isnull().values.any()\n",
    "house_df.describe()"
   ]
  },
  {
   "cell_type": "markdown",
   "metadata": {},
   "source": [
    "## Data analysis and preprocessing"
   ]
  },
  {
   "cell_type": "code",
   "execution_count": 2,
   "metadata": {},
   "outputs": [
    {
     "data": {
      "image/png": "[encoded data removed]",
      "text/plain": [
       "<Figure size 640x480 with 1 Axes>"
      ]
     },
     "metadata": {},
     "output_type": "display_data"
    },
    {
     "data": {
      "image/png": "[encoded data removed]",
      "text/plain": [
       "<Figure size 1200x1000 with 4 Axes>"
      ]
     },
     "metadata": {},
     "output_type": "display_data"
    }
   ],
   "source": [
    "import matplotlib.pyplot as plt\n",
    "\n",
    "plt.hist(house_df['MEDV'], bins=30, edgecolor='k')\n",
    "plt.xlabel('Median Value of Owner-occupied Homes ($1000s)')\n",
    "plt.ylabel('Frequency')\n",
    "plt.title('Distribution of MEDV')\n",
    "plt.show()\n",
    "\n",
    "selected_features = ['CRIM', 'ZN', 'INDUS', 'RM']\n",
    "\n",
    "# Create histograms for selected features\n",
    "plt.figure(figsize=(12, 10))\n",
    "\n",
    "for i, feature in enumerate(selected_features, 1):\n",
    "    plt.subplot(2, 2, i)\n",
    "    plt.hist(house_df[feature], bins=30, edgecolor='k')\n",
    "    plt.xlabel(feature)\n",
    "    plt.ylabel('Frequency')\n",
    "\n",
    "plt.tight_layout()\n",
    "plt.show()"
   ]
  },
  {
   "cell_type": "code",
   "execution_count": 3,
   "metadata": {},
   "outputs": [],
   "source": [
    "from sklearn.model_selection import train_test_split\n",
    "\n",
    "y = house_df['MEDV']\n",
    "X = house_df.drop(columns=['MEDV'])\n",
    "\n",
    "X_train, X_temp, y_train, y_temp = train_test_split(X, y, test_size=0.7, random_state=42)\n",
    "X_val, X_test, y_val, y_test = train_test_split(X_temp, y_temp, test_size=0.7, random_state=42)\n",
    "X_train = X_train.reset_index(drop=True)\n",
    "X_val = X_val.reset_index(drop=True)\n",
    "X_test = X_test.reset_index(drop=True)\n",
    "y_train = y_train.reset_index(drop=True)\n",
    "y_val = y_val.reset_index(drop=True)\n",
    "y_test = y_test.reset_index(drop=True)"
   ]
  },
  {
   "cell_type": "code",
   "execution_count": 4,
   "metadata": {},
   "outputs": [
    {
     "name": "stdout",
     "output_type": "stream",
     "text": [
      "Missing values in X_train_df: False\n",
      "Missing values in X_val_df: False\n",
      "Missing values in X_test_df: False\n"
     ]
    }
   ],
   "source": [
    "from sklearn.preprocessing import MinMaxScaler, StandardScaler\n",
    "from sklearn.impute import SimpleImputer\n",
    "\n",
    "imputer = SimpleImputer(strategy='mean')\n",
    "X_train = imputer.fit_transform(X_train)\n",
    "X_val = imputer.transform(X_val)\n",
    "X_test = imputer.transform(X_test)\n",
    "\n",
    "scaler = MinMaxScaler()\n",
    "X_train = scaler.fit_transform(X_train)\n",
    "X_val = scaler.transform(X_val)\n",
    "X_test = scaler.transform(X_test)\n",
    "\n",
    "X_train_df = pd.DataFrame(X_train, columns=X.columns)\n",
    "X_val_df = pd.DataFrame(X_val, columns=X.columns)\n",
    "X_test_df = pd.DataFrame(X_test, columns=X.columns)\n",
    "\n",
    "print(\"Missing values in X_train_df:\", X_train_df.isnull().values.any())\n",
    "print(\"Missing values in X_val_df:\", X_val_df.isnull().values.any())\n",
    "print(\"Missing values in X_test_df:\", X_test_df.isnull().values.any())\n"
   ]
  },
  {
   "cell_type": "markdown",
   "metadata": {},
   "source": [
    "## Multi Layer Perceptron Regresson Implementation from Scratch"
   ]
  },
  {
   "cell_type": "code",
   "execution_count": 5,
   "metadata": {},
   "outputs": [],
   "source": [
    "import numpy as np\n",
    "\n",
    "def sigmoid(x):\n",
    "    return 1 / (1 + np.exp(-x))\n",
    "\n",
    "def tanh(x):\n",
    "    return np.tanh(x)\n",
    "\n",
    "def relu(x):\n",
    "    return np.maximum(0, x)\n",
    "\n",
    "def sgd_optimizer(weights, gradients, learning_rate, batch_size=None):\n",
    "    for i in range(len(weights)):\n",
    "        weights[i] -= learning_rate * gradients[i]\n",
    "\n",
    "def batch_gradient_descent(weights, gradients, learning_rate, batch_size=None):\n",
    "    for i in range(len(weights)):\n",
    "        weights[i] -= learning_rate * gradients[i]\n",
    "\n",
    "def mini_batch_gradient_descent(weights, gradients, learning_rate, batch_size):\n",
    "    for i in range(len(weights)):\n",
    "        weights[i] -= learning_rate * gradients[i]\n",
    "\n",
    "class MLP_Regressor:\n",
    "    def __init__(self, input_size, hidden_layers, output_size, learning_rate=0.01, activation='sigmoid', optimizer='sgd'):\n",
    "        self.input_size = input_size\n",
    "        self.hidden_layers = hidden_layers\n",
    "        self.output_size = output_size\n",
    "        self.learning_rate = learning_rate\n",
    "        \n",
    "        if activation == 'sigmoid':\n",
    "            self.activation_function = sigmoid\n",
    "        elif activation == 'tanh':\n",
    "            self.activation_function = tanh\n",
    "        elif activation == 'relu':\n",
    "            self.activation_function = relu\n",
    "        \n",
    "        if optimizer == 'sgd':\n",
    "            self.optimizer = sgd_optimizer\n",
    "        elif optimizer == 'batch':\n",
    "            self.optimizer = batch_gradient_descent\n",
    "        elif optimizer == 'mini-batch':\n",
    "            self.optimizer = mini_batch_gradient_descent\n",
    "        \n",
    "        self.weights, self.biases = self.initialize_weights_and_biases()\n",
    "    \n",
    "    def initialize_weights_and_biases(self):\n",
    "        layer_sizes = [self.input_size] + self.hidden_layers + [self.output_size]\n",
    "        weights = [np.random.randn(layer_sizes[i], layer_sizes[i+1]) for i in range(len(layer_sizes) - 1)]\n",
    "        biases = [np.zeros(layer_size) for layer_size in layer_sizes[1:]]\n",
    "        return weights, biases\n",
    "    \n",
    "    def forward_propagation(self, x):\n",
    "        activations = [x]\n",
    "        weighted_inputs = []\n",
    "        \n",
    "        for i in range(len(self.weights)):\n",
    "            z = np.dot(activations[-1], self.weights[i]) + self.biases[i]\n",
    "            weighted_inputs.append(z)\n",
    "            a = self.activation_function(z)\n",
    "            activations.append(a)\n",
    "        return activations, weighted_inputs\n",
    "    \n",
    "    def backward_propagation(self, x, y, activations, weighted_inputs):\n",
    "        m = x.shape[0]\n",
    "        gradients = [np.zeros_like(weight) for weight in self.weights]\n",
    "        bias_gradients = [np.zeros_like(bias) for bias in self.biases]\n",
    "        \n",
    "        delta = None\n",
    "        if self.activation_function == sigmoid:\n",
    "            delta = (activations[-1] - y) * activations[-1] * (1 - activations[-1])\n",
    "        elif self.activation_function == tanh:\n",
    "            delta = (activations[-1] - y) * (1 - np.tanh(activations[-1]) ** 2)\n",
    "        elif self.activation_function == relu:\n",
    "            delta = (activations[-1] - y) * (activations[-1] > 0).astype(float)\n",
    "\n",
    "        for i in range(len(self.weights) - 1, -1, -1):\n",
    "            if self.activation_function == sigmoid:\n",
    "                activation_derivative = activations[i] * (1 - activations[i])\n",
    "            elif self.activation_function == tanh:\n",
    "                if(i > 0):\n",
    "                    activation_derivative = 1 - np.tanh(weighted_inputs[i-1]) ** 2\n",
    "            elif self.activation_function == relu:\n",
    "                activation_derivative = (activations[i] > 0).astype(float)\n",
    "            \n",
    "            gradients[i] = np.dot(activations[i].T, delta) / m\n",
    "            bias_gradients[i] = np.sum(delta, axis=0) / m\n",
    "            if(i == 0):\n",
    "                continue\n",
    "            delta = np.dot(delta, self.weights[i].T) * activation_derivative\n",
    "\n",
    "        self.biases = [bias - self.learning_rate * bias_gradient for bias, bias_gradient in zip(self.biases, bias_gradients)]\n",
    "        return gradients\n",
    "    \n",
    "    def train(self, x_train, y_train, epochs, batch_size=None):\n",
    "        train_losses = []\n",
    "        valid_losses = []\n",
    "        for epoch in range(epochs):  \n",
    "            self.n_samples = x_train.shape[0]\n",
    "            shuffle = np.random.permutation(self.n_samples)\n",
    "            train_loss = 0\n",
    "            valid_loss = 0\n",
    "            if batch_size is not None:\n",
    "                X_batches = np.array_split(x_train[shuffle], len(x_train) // batch_size)\n",
    "                Y_batches = np.array_split(y_train[shuffle].to_numpy().reshape(-1, 1), len(y_train) // batch_size)  # Reshape y\n",
    "            else:\n",
    "                X_batches = [x_train[shuffle]]\n",
    "                Y_batches = [y_train[shuffle].to_numpy().reshape(-1, 1)] \n",
    "\n",
    "            for batch_x, batch_y in zip(X_batches, Y_batches):\n",
    "                activations, weighted_inputs = self.forward_propagation(batch_x) \n",
    "                train_loss += np.mean((activations[-1] - batch_y) ** 2)\n",
    "                valid_loss += self.calc_loss(self.X_val, self.y_val.to_numpy().reshape(-1, 1))\n",
    "                gradients = self.backward_propagation(batch_x, batch_y, activations, weighted_inputs)\n",
    "                self.optimizer(self.weights, gradients, self.learning_rate, batch_size)\n",
    "\n",
    "            train_loss = (train_loss / len(X_batches))\n",
    "            valid_loss = (valid_loss / len(X_batches))\n",
    "            train_losses.append(train_loss)\n",
    "            valid_losses.append(valid_loss)\n",
    "        self.train_lossarr = train_losses  \n",
    "        self.valid_lossarr = valid_losses \n",
    "    \n",
    "    def predict(self, x):\n",
    "        activations, _ = self.forward_propagation(x)\n",
    "        predictions = activations[-1]\n",
    "        return predictions\n",
    "\n",
    "    def calc_loss(self, x, y):\n",
    "        activations, _ = self.forward_propagation(x)\n",
    "        loss = np.mean((activations[-1] - y) ** 2)\n",
    "        return loss\n"
   ]
  },
  {
   "cell_type": "code",
   "execution_count": 6,
   "metadata": {},
   "outputs": [
    {
     "name": "stderr",
     "output_type": "stream",
     "text": [
      "/Users/swayam/Library/Python/3.9/lib/python/site-packages/urllib3/__init__.py:34: NotOpenSSLWarning: urllib3 v2.0 only supports OpenSSL 1.1.1+, currently the 'ssl' module is compiled with 'LibreSSL 2.8.3'. See: https://github.com/urllib3/urllib3/issues/3020\n",
      "  warnings.warn(\n",
      "Failed to detect the name of this notebook, you can set it manually with the WANDB_NOTEBOOK_NAME environment variable to enable code saving.\n",
      "/Users/swayam/Library/Python/3.9/lib/python/site-packages/urllib3/__init__.py:34: NotOpenSSLWarning: urllib3 v2.0 only supports OpenSSL 1.1.1+, currently the 'ssl' module is compiled with 'LibreSSL 2.8.3'. See: https://github.com/urllib3/urllib3/issues/3020\n",
      "  warnings.warn(\n",
      "\u001b[34m\u001b[1mwandb\u001b[0m: Currently logged in as: \u001b[33mswayamagrawal1004\u001b[0m. Use \u001b[1m`wandb login --relogin`\u001b[0m to force relogin\n",
      "\u001b[34m\u001b[1mwandb\u001b[0m: \u001b[33mWARNING\u001b[0m If you're specifying your api key in code, ensure this code is not shared publicly.\n",
      "\u001b[34m\u001b[1mwandb\u001b[0m: \u001b[33mWARNING\u001b[0m Consider setting the WANDB_API_KEY environment variable, or running `wandb login` from the command line.\n",
      "\u001b[34m\u001b[1mwandb\u001b[0m: Appending key for api.wandb.ai to your netrc file: /Users/swayam/.netrc\n"
     ]
    },
    {
     "data": {
      "text/html": [
       "wandb version 0.15.12 is available!  To upgrade, please run:\n",
       " $ pip install wandb --upgrade"
      ],
      "text/plain": [
       "<IPython.core.display.HTML object>"
      ]
     },
     "metadata": {},
     "output_type": "display_data"
    },
    {
     "data": {
      "text/html": [
       "Tracking run with wandb version 0.15.11"
      ],
      "text/plain": [
       "<IPython.core.display.HTML object>"
      ]
     },
     "metadata": {},
     "output_type": "display_data"
    },
    {
     "data": {
      "text/html": [
       "Run data is saved locally in <code>/Users/swayam/github-classroom/Statistical-Methods-in-AI-Monsoon-2023/assignment-3-schlechter-afk/wandb/run-20231010_133854-70vjixbl</code>"
      ],
      "text/plain": [
       "<IPython.core.display.HTML object>"
      ]
     },
     "metadata": {},
     "output_type": "display_data"
    },
    {
     "data": {
      "text/html": [
       "Syncing run <strong><a href='https://wandb.ai/swayamagrawal1004/SMAI_ASSIGNMENT3_Part3/runs/70vjixbl' target=\"_blank\">wise-wind-12</a></strong> to <a href='https://wandb.ai/swayamagrawal1004/SMAI_ASSIGNMENT3_Part3' target=\"_blank\">Weights & Biases</a> (<a href='https://wandb.me/run' target=\"_blank\">docs</a>)<br/>"
      ],
      "text/plain": [
       "<IPython.core.display.HTML object>"
      ]
     },
     "metadata": {},
     "output_type": "display_data"
    },
    {
     "data": {
      "text/html": [
       " View project at <a href='https://wandb.ai/swayamagrawal1004/SMAI_ASSIGNMENT3_Part3' target=\"_blank\">https://wandb.ai/swayamagrawal1004/SMAI_ASSIGNMENT3_Part3</a>"
      ],
      "text/plain": [
       "<IPython.core.display.HTML object>"
      ]
     },
     "metadata": {},
     "output_type": "display_data"
    },
    {
     "data": {
      "text/html": [
       " View run at <a href='https://wandb.ai/swayamagrawal1004/SMAI_ASSIGNMENT3_Part3/runs/70vjixbl' target=\"_blank\">https://wandb.ai/swayamagrawal1004/SMAI_ASSIGNMENT3_Part3/runs/70vjixbl</a>"
      ],
      "text/plain": [
       "<IPython.core.display.HTML object>"
      ]
     },
     "metadata": {},
     "output_type": "display_data"
    },
    {
     "data": {
      "text/html": [
       "Waiting for W&B process to finish... <strong style=\"color:green\">(success).</strong>"
      ],
      "text/plain": [
       "<IPython.core.display.HTML object>"
      ]
     },
     "metadata": {},
     "output_type": "display_data"
    },
    {
     "name": "stderr",
     "output_type": "stream",
     "text": [
      "wandb: WARNING Source type is set to 'repo' but some required information is missing from the environment. A job will not be created from this run. See https://docs.wandb.ai/guides/launch/create-job\n"
     ]
    },
    {
     "data": {
      "text/html": [
       "<style>\n",
       "    table.wandb td:nth-child(1) { padding: 0 10px; text-align: left ; width: auto;} td:nth-child(2) {text-align: left ; width: 100%}\n",
       "    .wandb-row { display: flex; flex-direction: row; flex-wrap: wrap; justify-content: flex-start; width: 100% }\n",
       "    .wandb-col { display: flex; flex-direction: column; flex-basis: 100%; flex: 1; padding: 10px; }\n",
       "    </style>\n",
       "<div class=\"wandb-row\"><div class=\"wandb-col\"><h3>Run history:</h3><br/><table class=\"wandb\"><tr><td>Validation Loss</td><td>█▂▁▁▁▁▁▁▁▁▁▁▁▁▁▁▁▁▁▁▁▁▁▁▁▁▁▁▁▁▁▁▁▁▁▁▁▁▁▁</td></tr></table><br/></div><div class=\"wandb-col\"><h3>Run summary:</h3><br/><table class=\"wandb\"><tr><td>Validation Loss</td><td>17.09818</td></tr></table><br/></div></div>"
      ],
      "text/plain": [
       "<IPython.core.display.HTML object>"
      ]
     },
     "metadata": {},
     "output_type": "display_data"
    },
    {
     "data": {
      "text/html": [
       " View run <strong style=\"color:#cdcd00\">wise-wind-12</strong> at: <a href='https://wandb.ai/swayamagrawal1004/SMAI_ASSIGNMENT3_Part3/runs/70vjixbl' target=\"_blank\">https://wandb.ai/swayamagrawal1004/SMAI_ASSIGNMENT3_Part3/runs/70vjixbl</a><br/>Synced 4 W&B file(s), 0 media file(s), 0 artifact file(s) and 0 other file(s)"
      ],
      "text/plain": [
       "<IPython.core.display.HTML object>"
      ]
     },
     "metadata": {},
     "output_type": "display_data"
    },
    {
     "data": {
      "text/html": [
       "Find logs at: <code>./wandb/run-20231010_133854-70vjixbl/logs</code>"
      ],
      "text/plain": [
       "<IPython.core.display.HTML object>"
      ]
     },
     "metadata": {},
     "output_type": "display_data"
    }
   ],
   "source": [
    "import wandb\n",
    "wandb.login(key='fac5cd7f576f5d6d2591b0e77385c09a7922b210')\n",
    "wandb.init(\n",
    "    # set the wandb project where this run will be logged\n",
    "    project=\"SMAI_ASSIGNMENT3_Part3\",\n",
    "    \n",
    "    # track hyperparameters and run metadata\n",
    "    config={\n",
    "    \"learning_rate\": 0.005,\n",
    "    \"architecture\": \"CNN\",\n",
    "    \"dataset\": \"CIFAR-100\",\n",
    "    \"epochs\": 200,\n",
    "    }\n",
    ")\n",
    "\n",
    "model = MLP_Regressor(input_size=13, hidden_layers=[32, 16], output_size=1, learning_rate=0.005, activation='relu', optimizer='mini-batch')\n",
    "model.X_val = X_val\n",
    "model.y_val = y_val\n",
    "model.train(X_train, y_train, epochs=200, batch_size=20)\n",
    "valid_lossarr = model.valid_lossarr\n",
    "for epoch, loss in enumerate(valid_lossarr, start=1):\n",
    "    wandb.log({\"Validation Loss\": loss}, step=epoch)\n",
    "wandb.finish()\n"
   ]
  },
  {
   "cell_type": "code",
   "execution_count": 7,
   "metadata": {},
   "outputs": [
    {
     "name": "stdout",
     "output_type": "stream",
     "text": [
      "Best params according to MSE: \n",
      "{'Activation': 'relu', 'Optimizer': 'mini-batch', 'Epochs': 200, 'Learning Rate': 0.003, 'Hidden Neurons': [8, 6, 6]}\n",
      "MSE: 11.274837811541172\n",
      "RMSE: 3.3578025271807115\n",
      "R2 Score: 0.8761805364057562\n"
     ]
    }
   ],
   "source": [
    "from sklearn.metrics import mean_squared_error, mean_squared_error, r2_score\n",
    "\n",
    "learning_rates = [0.01, 0.007, 0.003]\n",
    "epochs = [50, 100, 200]\n",
    "hidden_neurons = [[32, 16], [6, 6], [8, 6], [6, 6, 6], [8, 6, 6]]\n",
    "activations = ['sigmoid', 'tanh', 'relu']\n",
    "optimizers = ['sgd', 'batch', 'mini-batch']\n",
    "\n",
    "best_mse = 1e9\n",
    "best_params_mse = None\n",
    "best_mse_r2 = None\n",
    "best_mse_rmse = None\n",
    "\n",
    "for activation in activations:\n",
    "    for optimizer in optimizers:\n",
    "        for epoch in epochs:\n",
    "            for learning_rate in learning_rates:\n",
    "                for hn in hidden_neurons:\n",
    "                    model = MLP_Regressor(input_size=13, hidden_layers=hn, output_size=1, learning_rate=learning_rate, activation=activation, optimizer=optimizer)\n",
    "                    model.X_val = X_val\n",
    "                    model.y_val = y_val \n",
    "                    \n",
    "                    if optimizer != 'mini-batch':\n",
    "                        model.train(X_train, y_train, epochs=epoch, batch_size=None)\n",
    "                    else:\n",
    "                        model.train(X_train, y_train, epochs=epoch, batch_size=20)\n",
    "\n",
    "                    y_pred = model.predict(X_val)\n",
    "                    mse = mean_squared_error(y_val, y_pred)\n",
    "                    rmse = np.sqrt(mse)\n",
    "                    r2 = r2_score(y_val, y_pred)\n",
    "\n",
    "                    params = {'Activation': activation, 'Optimizer': optimizer, 'Epochs': epoch, 'Learning Rate': learning_rate, 'Hidden Neurons': hn}\n",
    "\n",
    "                    if mse < best_mse:\n",
    "                        best_params_mse = params\n",
    "                        best_mse = mse\n",
    "                        best_mse_r2 = r2\n",
    "                        best_mse_rmse = rmse\n",
    "\n",
    "print(\"Best params according to MSE: \")\n",
    "print(best_params_mse)\n",
    "print(\"MSE: \" + str(best_mse))\n",
    "print(\"RMSE: \" + str(best_mse_rmse))\n",
    "print(\"R2 Score: \" + str(best_mse_r2))"
   ]
  },
  {
   "cell_type": "code",
   "execution_count": 15,
   "metadata": {},
   "outputs": [
    {
     "name": "stdout",
     "output_type": "stream",
     "text": [
      "MSE for test data: 23.73119968058816\n",
      "RMSE for test data: 4.871467918460324\n",
      "R2 Score for test data: 0.715527563334128\n"
     ]
    }
   ],
   "source": [
    "activation = best_params_mse['Activation']\n",
    "optimizer = best_params_mse['Optimizer']\n",
    "epoch = best_params_mse['Epochs']\n",
    "learning_rate = best_params_mse['Learning Rate']\n",
    "hn = best_params_mse['Hidden Neurons']\n",
    "\n",
    "model = MLP_Regressor(input_size=13, hidden_layers=hn, output_size=1, learning_rate=learning_rate, activation=activation, optimizer='sgd')\n",
    "model.X_val = X_val\n",
    "model.y_val = y_val\n",
    "if optimizer != 'mini-batch':\n",
    "    model.train(X_train, y_train, epochs=epoch, batch_size=None)\n",
    "else:\n",
    "    model.train(X_train, y_train, epochs=epoch, batch_size=20)\n",
    "y_pred = model.predict(X_test)\n",
    "mse = mean_squared_error(y_test, y_pred)\n",
    "rmse = np.sqrt(mse)\n",
    "r2 = r2_score(y_test, y_pred)\n",
    "\n",
    "print(\"MSE for test data: \" + str(mse))\n",
    "print(\"RMSE for test data: \" + str(rmse))\n",
    "print(\"R2 Score for test data: \" + str(r2))"
   ]
  }
 ],
 "metadata": {
  "kernelspec": {
   "display_name": "Python 3",
   "language": "python",
   "name": "python3"
  },
  "language_info": {
   "codemirror_mode": {
    "name": "ipython",
    "version": 3
   },
   "file_extension": ".py",
   "mimetype": "text/x-python",
   "name": "python",
   "nbconvert_exporter": "python",
   "pygments_lexer": "ipython3",
   "version": "3.9.6"
  },
  "orig_nbformat": 4
 },
 "nbformat": 4,
 "nbformat_minor": 2
}
